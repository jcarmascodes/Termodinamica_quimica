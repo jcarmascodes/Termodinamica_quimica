{
  "nbformat": 4,
  "nbformat_minor": 0,
  "metadata": {
    "colab": {
      "provenance": []
    },
    "kernelspec": {
      "name": "python3",
      "display_name": "Python 3"
    },
    "language_info": {
      "name": "python"
    }
  },
  "cells": [
    {
      "cell_type": "markdown",
      "source": [
        "##ECUACIONES DE ESTADO\n",
        "#####NOTEBOOK 1: COMPUESTO PURO\n",
        "---\n",
        "<BR>\n",
        "<div align=\"justify\">\n",
        "<H5>En este notebook corresponde a la resolución de ecuaciones de estado en su forma polinomica en términos del volumen molar mediante el cálculo de las raices del polinomio, aplicados solo en compuestos puros. </H5>\n",
        "<div>\n",
        "\n",
        "<BR>\n",
        "<div align=\"justify\">\n",
        "<H5>A partir del cálculo del volumen molar se puede calcular otras variables como lo es la densidad, factor compresibilidad o incluso la cantidad de moles presentes dentro un volumen en especifico. </H5>\n",
        "<div>\n",
        "\n",
        "<br>\n",
        "\n",
        "**NOTA IMPORTANTE**: Para ejecutar este programa es necesario tener las librerías numpy y tabulate.\n",
        "\n",
        "\n",
        "\n"
      ],
      "metadata": {
        "id": "sQfeXG84l3OU"
      }
    },
    {
      "cell_type": "markdown",
      "source": [
        "-------------------------------"
      ],
      "metadata": {
        "id": "so4GVvr7C_Oj"
      }
    },
    {
      "cell_type": "markdown",
      "source": [
        "CELDA 1: INGRESO DE DATOS AL PROGRAMA\n",
        "\n",
        "<div align='justify'>\n",
        "<H5> Esta celda es para el ingreso de los datos al programa para resolver las ecuaciones de estado, siga las instrucciones de llenado en los comentarios. Es necesario llenarlo con las unidades que se especifican en el código, sino cuenta con los datos en las unidades que se pidan en el programa es necesario hacer conversiones.\n",
        "\n",
        "\n",
        "Se recomienda no cambiar el valor R (constante de los gases ideales), de hacerlo es necesario buscar valores de los datos a ingresar en las unidades que sean consistentes con los del nuevo R. </H5>\n",
        "<div>\n",
        "\n",
        "\n",
        "El nombre de la sustancia (variable `COMP`) se escribe entre las comillas simples(`'oxígeno'`,`'ACETONA'`)\n"
      ],
      "metadata": {
        "id": "4AEI9qrrDAwz"
      }
    },
    {
      "cell_type": "code",
      "execution_count": null,
      "metadata": {
        "id": "vN52sy3pdOPA"
      },
      "outputs": [],
      "source": [
        "import numpy as np\n",
        "import tabulate as tb\n",
        "\n",
        "R=0.082 #(atm*L)/(mol*K) - CONSTANTE DE LOS GASES IDEALES\n",
        "\n",
        "COMP='ACETONA'    #NOMBRE DEL COMPUESTO\n",
        "T=650             #(K)            - TEMPERATURA DEL SISTEMA DE REFERENCIA\n",
        "P=9.8692          #(atm)          - PRESIÓN DEL SISTEMA DE REFERENCIA\n",
        "MMOLAR_GAS=58.080 #(g/mol)        - MASA MOLAR DEL COMPUESTO\n",
        "PC=46.3853        #(atm)          - PRESIÓN CRITICO PARA EL COMPUESTO\n",
        "TC=508.1          #(K)            - TEMPERATURA CRITICO PARA EL COMPUESTO\n",
        "w_fa=0.304        #(ADIMENSIONAL) - FACTOR ACENTRICO\n",
        "\n",
        "print('*** DATOS INGRESADOS AL PROGRAMA ***')"
      ]
    },
    {
      "cell_type": "markdown",
      "source": [
        "---"
      ],
      "metadata": {
        "id": "xy2G1mMO1Wpe"
      }
    },
    {
      "cell_type": "markdown",
      "source": [
        "#Ecuación del gas ideal"
      ],
      "metadata": {
        "id": "KlIf8CNB1Z0i"
      }
    },
    {
      "cell_type": "code",
      "source": [
        "print(\"*** CALCULANDO LAS VARIABLES DEL FLUIDO POR LA ECUACIÓN DEL GAS IDEAL ***\\n\")\n",
        "VM_EGI=(R*T)/P\n",
        "DENS_EGI=(P*MMOLAR_GAS)/(R*T)\n",
        "Z_EGI=(P*VM_EGI)/(R*T)\n",
        "\n",
        "# - SALIDA DE RESULTADOS\n",
        "print(\"RESULTADOS PARA LA ECUACIÓN DE ESTADO DE VAN DER WAALS\")\n",
        "print(\"---------------------------------------------------------------------\\n\")\n",
        "ENC_RES = [\"VARIABLE\", \"RESULTADO\"]\n",
        "VAR_TAB2_RES = ['VOLUMEN MOLAR DEL FLUIDO \\n(V, L/mol)','DENSIDAD DEL FLUIDO \\n(ρ, kg/m^3)','FACTOR DE COMPRESIBILIDAD \\n(Z)']\n",
        "R_VAR_EGI = [VM_EGI, DENS_EGI, Z_EGI]\n",
        "FIL_R_EGI = []\n",
        "for i in range(3):\n",
        "    FIL_R_EGI.append([VAR_TAB2_RES[i],R_VAR_EGI[i]])\n",
        "print(tb.tabulate(FIL_R_EGI, headers=ENC_RES, tablefmt=\"fancy_grid\", floatfmt=\".6f\", stralign=\"center\", numalign=\"center\"))\n",
        "print(\"\\n-------------------------------------------------------------------\\n\\n\\n\")\n"
      ],
      "metadata": {
        "id": "UQJpVRiG1dEJ"
      },
      "execution_count": null,
      "outputs": []
    },
    {
      "cell_type": "markdown",
      "source": [
        "---"
      ],
      "metadata": {
        "id": "P1h4-trPEvsb"
      }
    },
    {
      "cell_type": "markdown",
      "source": [
        "#Ecuación de estado de Van der Waals"
      ],
      "metadata": {
        "id": "bWpaZ-a2hkrc"
      }
    },
    {
      "cell_type": "code",
      "source": [
        "print(\"*** CALCULANDO LAS VARIABLES DEL FLUIDO POR LA ECUACIÓN DE ESTADO DE VAN DER WAALS ***\\n\\n\")\n",
        "\n",
        "# - CALCULAR LAS CONSTANTE a Y b PARA COMPONENTE PURO\n",
        "a_VW=((27*pow(R,2)*pow(TC,2))/(64*PC))\n",
        "b_VW=((R*TC)/(8*PC))\n",
        "\n",
        "print(f\"OBTENCIÓN DE LAS CONSTANTES a y b PARA LA ECUACIÓN DE ESTADO DE Van der Waals \\nPARA EL COMPUESTO {COMP.upper()}\")\n",
        "print(\"------------------------------------------------------------------------------\\n\")\n",
        "ENC_RES = [\"VARIABLE\", \"RESULTADO\"]\n",
        "VAR_TAB1_RES = ['CONSTANTE a','CONSTANTE b']\n",
        "R_VAR_EEVW = [a_VW, b_VW]\n",
        "FIL_R_EEVW = []\n",
        "for i in range(2):\n",
        "    FIL_R_EEVW.append([VAR_TAB1_RES[i],R_VAR_EEVW[i]])\n",
        "print(tb.tabulate(FIL_R_EEVW, headers=ENC_RES, tablefmt=\"fancy_grid\", floatfmt=\"5.6f\", stralign=\"center\", numalign=\"center\"))\n",
        "print('\\n\\n')\n",
        "\n",
        "# -  CALCULAR LOS COEFICIENTES DE LA ECUACIÓN DE ESTADO DE VAN DER WAALS EN SU FORMA POLINOMICA\n",
        "print(\"CALCULO DE LOS COEFICIENTES DE LA ECUACIÓN POLINOMICA Y DE LA RAIZ DEL MISMO\")\n",
        "print(\"------------------------------------------------------------------------------\\n\")\n",
        "coeff1_VW=1                       #TERMINO CÚBICO\n",
        "coeff2_VW=-1*(b_VW+((R*T)/P))     #TERMINO CUADRÁTICO\n",
        "coeff3_VW=(a_VW/P)                #TERMINO LINEAL\n",
        "coeff4_VW=-1*((a_VW*b_VW)/P)      #TERMINO INDEPENDIENTE\n",
        "\n",
        "POL_VW=[coeff1_VW,coeff2_VW,coeff3_VW,coeff4_VW]\n",
        "print(\"--> LA ECUACIÓN POLINÓMICA CALCULADA EN TÉRMINOS DE VOLUMEN MOLAR:\\n\")\n",
        "print(\"%5.1f V^3 + \\t%5.10f V^2 + \\t%5.10f V + \\t%5.10f = 0\\n\\n\"%(POL_VW[0],POL_VW[1],POL_VW[2],POL_VW[3]))\n",
        "\n",
        "# - OBTENER LA RAÍZ REAL DE LA ECUACIÓN POLINOMCA Y POR TANTO EL VOLUMEN MOLAR\n",
        "EPOL_VW=np.roots(POL_VW)\n",
        "print(\"--> LAS RAICES OBTENIDAS DE LA ECUACIÓN DE POLINÓMICA SON:\\n\")\n",
        "print(EPOL_VW)\n",
        "print(\"\\n\\n--> DE LO OBTENIDO DE LA ECUACIÓN DE ESTADO:\\n\")\n",
        "# - SELECCIÓN DE LA RAIZ REAL DE LA ECUACIÓN POLINOMICA\n",
        "RR_VW=sum(np.isreal(EPOL_VW))\n",
        "if RR_VW == 1:\n",
        "    VM_VW=EPOL_VW[np.isreal(EPOL_VW)].real[0]\n",
        "    print(\"VOLUMEN MOLAR DEL FLUIDO (L/mol) = %5.6f\"%(VM_VW))\n",
        "    print(\"\\n\\n\")\n",
        "elif RR_VW == 3:\n",
        "    VM_VW=max(EPOL_VW)\n",
        "    print(\"VOLUMEN MOLAR DEL FLUIDO (L/mol) = %5.6f\"%(VM_VW))\n",
        "    print(\"\\n\\n\")\n",
        "else:\n",
        "    print(\"*** ERROR NO HAY SOLUCION PARA ESTA EOS EN ESTAS CONDICIONES, NO HAY RAIZ REAL UNICA ***\\n\\n\")\n",
        "\n",
        "# - CALCULO DE LA DENSIDAD Y DEL FACTOR DE COMPRESIBILIDAD PARA LA SUSTANCIA\n",
        "DENS_VW=MMOLAR_GAS/VM_VW\n",
        "Z_VW=(P*VM_VW)/(R*T)\n",
        "\n",
        "# - SALIDA DE RESULTADOS\n",
        "print(\"RESULTADOS PARA LA ECUACIÓN DE ESTADO DE VAN DER WAALS\")\n",
        "print(\"---------------------------------------------------------------------\\n\")\n",
        "ENC_RES = [\"VARIABLE\", \"RESULTADO\"]\n",
        "VAR_TAB2_RES = ['VOLUMEN MOLAR DEL FLUIDO \\n(V, L/mol)','DENSIDAD DEL FLUIDO \\n(ρ, kg/m^3)','FACTOR DE COMPRESIBILIDAD \\n(Z)']\n",
        "R_VAR_EEVW = [VM_VW, DENS_VW, Z_VW]\n",
        "FIL_R_EEVW = []\n",
        "for i in range(3):\n",
        "    FIL_R_EEVW.append([VAR_TAB2_RES[i],R_VAR_EEVW[i]])\n",
        "print(tb.tabulate(FIL_R_EEVW, headers=ENC_RES, tablefmt=\"fancy_grid\", floatfmt=\".6f\", stralign=\"center\", numalign=\"center\"))\n",
        "print(\"\\n-------------------------------------------------------------------\\n\\n\\n\")\n"
      ],
      "metadata": {
        "id": "7Qu5f-wQfN8S"
      },
      "execution_count": null,
      "outputs": []
    },
    {
      "cell_type": "markdown",
      "source": [
        "-------"
      ],
      "metadata": {
        "id": "rfE1NjCZrGzT"
      }
    },
    {
      "cell_type": "markdown",
      "source": [
        "#Ecuación de estado de Redlich-Kwong"
      ],
      "metadata": {
        "id": "YgXyb0bNrH8m"
      }
    },
    {
      "cell_type": "code",
      "source": [
        "print(\"*** CALCULANDO LAS VARIABLES DEL FLUIDO POR LA ECUACIÓN DE ESTADO DE REDLICH-KWONG ***\\n\")\n",
        "\n",
        "# - CALCULAR LAS CONSTANTE a Y b PARA COMPONENTE DE LA MEZCLA\n",
        "a_RK=((0.42748*pow(R,2)*pow(TC,2.5))/PC)\n",
        "b_RK=((0.08664*R*TC)/PC)\n",
        "\n",
        "print(f\"OBTENCIÓN DE LAS CONSTANTES a y b PARA LA ECUACIÓN DE ESTADO DE Redlich-Kwong \\nPARA EL COMPUESTO {COMP.upper()}\")\n",
        "print(\"------------------------------------------------------------------------------\\n\")\n",
        "ENC_RES = [\"VARIABLE\", \"RESULTADO\"]\n",
        "VAR_TAB1_RES = ['CONSTANTE a','CONSTANTE b']\n",
        "R_VAR_EERK = [a_RK, b_RK]\n",
        "FIL_R_EERK = []\n",
        "for i in range(2):\n",
        "    FIL_R_EERK.append([VAR_TAB1_RES[i],R_VAR_EERK[i]])\n",
        "print(tb.tabulate(FIL_R_EERK, headers=ENC_RES, tablefmt=\"fancy_grid\", floatfmt=\"5.6f\", stralign=\"center\", numalign=\"center\"))\n",
        "print('\\n\\n')\n",
        "\n",
        "# - CALCULAR LOS COEFICIENTES DE LA ECUACIÓN DE ESTADO DE REDLICH-KWONG EN SU FORMA POLINOMICA\n",
        "print(\"CALCULO DE LOS COEFICIENTES DE LA ECUACIÓN POLINOMICA Y DE LA RAIZ DEL MISMO\")\n",
        "print(\"------------------------------------------------------------------------------\\n\")\n",
        "coeff1_RK=1                                               #TERMINO CÚBICO\n",
        "coeff2_RK=-1*((R*T)/P)                                    #TERMINO CUADRÁTICO\n",
        "coeff3_RK=(1/P)*((a_RK/T**0.5)-(b_RK*R*T)-(P*(b_RK**2)))  #TERMINO LINEAL\n",
        "coeff4_RK=-1*((a_RK*b_RK)/(P*(T**0.5)))                   #TERMINO INDEPENDIENTE\n",
        "\n",
        "POL_RK=[coeff1_RK,coeff2_RK,coeff3_RK,coeff4_RK]\n",
        "print(\"--> LA ECUACIÓN POLINÓMICA CALCULADA EN TÉRMINOS DE VOLUMEN MOLAR:\\n\")\n",
        "print(\"%5.1f V^3 + \\t%5.10f V^2 + \\t%5.10f V + \\t%5.10f = 0\\n\\n\"%(POL_RK[0],POL_RK[1],POL_RK[2],POL_RK[3]))\n",
        "\n",
        "# - OBTENER LA RAÍZ REAL DE LA ECUACIÓN POLINOMCA Y POR TANTO EL VOLUMEN MOLAR\n",
        "EPOL_RK=np.roots(POL_RK)\n",
        "print(\"--> LAS RAICES OBTENIDAS DE LA ECUACIÓN DE POLINÓMICA SON:\\n\")\n",
        "print(EPOL_RK)\n",
        "print(\"\\n\\n--> DE LO OBTENIDO DE LA ECUACIÓN DE ESTADO:\\n\")\n",
        "# - SELECCIÓN DE LA RAIZ REAL DE LA ECUACIÓN POLINOMICA\n",
        "RR_RK=sum(np.isreal(EPOL_RK))\n",
        "if RR_RK == 1:\n",
        "    VM_RK=EPOL_RK[np.isreal(EPOL_RK)].real[0]\n",
        "    print(\"VOLUMEN MOLAR DEL FLUIDO (L/mol) = %5.6f\"%(VM_RK))\n",
        "    print(\"\\n\\n\")\n",
        "elif RR_RK == 3:\n",
        "    VM_RK=max(EPOL_RK)\n",
        "    print(\"VOLUMEN MOLAR DEL FLUIDO (L/mol) = %5.6f\"%(VM_RK))\n",
        "    print(\"\\n\\n\")\n",
        "else:\n",
        "    print(\"*** ERROR NO HAY SOLUCION PARA ESTA EOS EN ESTAS CONDICIONES, NO HAY RAIZ REAL UNICA ***\\n\\n\")\n",
        "\n",
        "# - CALCULO DE LA DENSIDAD Y DEL FACTOR DE COMPRESIBILIDAD PARA LA SUSTANCIA\n",
        "DENS_RK=MMOLAR_GAS/VM_RK\n",
        "Z_RK=(P*VM_RK)/(R*T)\n",
        "\n",
        "# - RESULTADOS DE SALIDA\n",
        "print(\"RESULTADOS PARA LA ECUACIÓN DE ESTADO DE REDLICH-KWONG\")\n",
        "print(\"---------------------------------------------------------------------\\n\")\n",
        "ENC_RES = [\"VARIABLE\", \"RESULTADO\"]\n",
        "VAR_TAB2_RES = ['VOLUMEN MOLAR DEL FLUIDO \\n(V, L/mol)','DENSIDAD DEL FLUIDO \\n(ρ, kg/m^3)','FACTOR DE COMPRESIBILIDAD \\n(Z)']\n",
        "R_VAR_EERK = [VM_RK, DENS_RK, Z_RK]\n",
        "FIL_R_EERK = []\n",
        "for i in range(3):\n",
        "    FIL_R_EERK.append([VAR_TAB2_RES[i],R_VAR_EERK[i]])\n",
        "print(tb.tabulate(FIL_R_EERK, headers=ENC_RES, tablefmt=\"fancy_grid\", floatfmt=\".6f\", stralign=\"center\", numalign=\"center\"))\n",
        "print(\"\\n-------------------------------------------------------------------\\n\\n\\n\")\n"
      ],
      "metadata": {
        "id": "3bbCN1unflZ_"
      },
      "execution_count": null,
      "outputs": []
    },
    {
      "cell_type": "markdown",
      "source": [
        "--------"
      ],
      "metadata": {
        "id": "Uerx8BwG0Nhz"
      }
    },
    {
      "cell_type": "markdown",
      "source": [
        "#Ecuación de estado de Soave"
      ],
      "metadata": {
        "id": "GGfD0YrD0Tnl"
      }
    },
    {
      "cell_type": "code",
      "source": [
        "print(\"*** CALCULANDO LAS VARIABLES DEL FLUIDO POR LA ECUACIÓN DE ESTADO DE SOAVE ***\\n\")\n",
        "\n",
        "#* CALCULAR LAS CONSTANTE a Y b PARA COMPONENTE DE LA MEZCLA\n",
        "TR_S=T/TC\n",
        "a_S=((0.42747*pow(R,2)*pow(TC,2))/PC)\n",
        "b_S=((0.08664*R*TC)/PC)\n",
        "alpha_S=(1+(0.48508+(1.55171*(w_fa))-(0.15613*(w_fa**2)))*(1-(TR_S**0.5)))**2\n",
        "\n",
        "print(f\"OBTENCIÓN DE LAS CONSTANTES a y b PARA LA ECUACIÓN DE ESTADO DE Soave \\nPARA EL COMPUESTO {COMP.upper()}\")\n",
        "print(\"------------------------------------------------------------------------------\\n\")\n",
        "ENC_RES = [\"VARIABLE\", \"RESULTADO\"]\n",
        "VAR_TAB1_RES = ['CONSTANTE a','CONSTANTE b','CONSTANTE alpha', 'TEMPERATURA REDUCIDA']\n",
        "R_VAR_EES = [a_S, b_S, alpha_S, TR_S]\n",
        "FIL_R_EES = []\n",
        "for i in range(4):\n",
        "    FIL_R_EES.append([VAR_TAB1_RES[i],R_VAR_EES[i]])\n",
        "print(tb.tabulate(FIL_R_EES, headers=ENC_RES, tablefmt=\"fancy_grid\", floatfmt=\"5.6f\", stralign=\"center\", numalign=\"center\"))\n",
        "print('\\n\\n')\n",
        "\n",
        "# - CALCULAR LOS COEFICIENTES DE LA ECUACIÓN DE ESTADO DE SOAVE EN SU FORMA POLINOMICA\n",
        "print(\"CALCULO DE LOS COEFICIENTES DE LA ECUACIÓN POLINOMICA Y DE LA RAIZ DEL MISMO\")\n",
        "print(\"------------------------------------------------------------------------------\\n\")\n",
        "coeff1_S=1                                              #TERMINO CÚBICO\n",
        "coeff2_S=-1*((R*T)/P)                                   #TERMINO CUADRÁTICO\n",
        "coeff3_S=(1/P)*((a_S*alpha_S)-(b_S*R*T)-(P*(b_S**2)))   #TERMINO LINEAL\n",
        "coeff4_S=-1*((a_S*alpha_S*b_S)/(P))                     #TERMINO INDEPENDIENTE\n",
        "\n",
        "POL_S=[coeff1_S,coeff2_S,coeff3_S,coeff4_S]\n",
        "print(\"--> LA ECUACIÓN POLINÓMICA CALCULADA EN TÉRMINOS DE VOLUMEN MOLAR:\\n\")\n",
        "print(\"%5.1f V^3 + \\t%5.10f V^2 + \\t%5.10f V + \\t%5.10f = 0\\n\\n\"%(POL_S[0],POL_S[1],POL_S[2],POL_S[3]))\n",
        "\n",
        "# - OBTENER LA RAÍZ REAL DE LA ECUACIÓN POLINOMCA Y POR TANTO EL VOLUMEN MOLAR\n",
        "EPOL_S=np.roots(POL_S)\n",
        "print(\"--> LAS RAICES OBTENIDAS DE LA ECUACIÓN DE POLINÓMICA SON:\\n\")\n",
        "print(EPOL_S)\n",
        "print(\"\\n\\n--> DE LO OBTENIDO DE LA ECUACIÓN DE ESTADO:\\n\")\n",
        "# - SELECCIÓN DE LA RAIZ REAL DE LA ECUACIÓN POLINOMICA\n",
        "RR_S=sum(np.isreal(EPOL_S))\n",
        "if RR_S == 1:\n",
        "    VM_S=EPOL_S[np.isreal(EPOL_S)].real[0]\n",
        "    print(\"VOLUMEN MOLAR DEL FLUIDO (L/mol) = %5.6f\"%(VM_S))\n",
        "    print(\"\\n\\n\")\n",
        "elif RR_S == 3:\n",
        "    VM_S=max(EPOL_S)\n",
        "    print(\"VOLUMEN MOLAR DEL FLUIDO (L/mol) = %5.6f\"%(VM_S))\n",
        "    print(\"\\n\\n\")\n",
        "else:\n",
        "    print(\"*** ERROR NO HAY SOLUCION PARA ESTA EOS EN ESTAS CONDICIONES, NO HAY RAIZ REAL UNICA ***\\n\\n\")\n",
        "\n",
        "# - CALCULO DE LA DENSIDAD Y DEL FACTOR DE COMPRESIBILIDAD PARA LA SUSTANCIA\n",
        "DENS_S=MMOLAR_GAS/VM_S\n",
        "Z_S=(P*VM_S)/(R*T)\n",
        "\n",
        "# - RESULTADOS DE SALIDA\n",
        "print(\"RESULTADOS PARA LA ECUACIÓN DE ESTADO DE SOAVE\")\n",
        "print(\"---------------------------------------------------------------------\\n\")\n",
        "ENC_RES = [\"VARIABLE\", \"RESULTADO\"]\n",
        "VAR_TAB2_RES = ['VOLUMEN MOLAR DEL FLUIDO \\n(V, L/mol)','DENSIDAD DEL FLUIDO \\n(ρ, kg/m^3)','FACTOR DE COMPRESIBILIDAD \\n(Z)']\n",
        "R_VAR_EES = [VM_S, DENS_S, Z_S]\n",
        "FIL_R_EES = []\n",
        "for i in range(3):\n",
        "    FIL_R_EES.append([VAR_TAB2_RES[i],R_VAR_EES[i]])\n",
        "print(tb.tabulate(FIL_R_EES, headers=ENC_RES, tablefmt=\"fancy_grid\", floatfmt=\".6f\", stralign=\"center\", numalign=\"center\"))\n",
        "print(\"\\n-------------------------------------------------------------------\\n\\n\\n\")\n"
      ],
      "metadata": {
        "id": "UfHHVqqgfzAz"
      },
      "execution_count": null,
      "outputs": []
    },
    {
      "cell_type": "code",
      "source": [
        "print(\"*** CALCULANDO LAS VARIABLES DEL FLUIDO POR LA ECUACIÓN DE ESTADO DE PENG-ROBINSON ***\\n\")\n",
        "\n",
        "# - CALCULAR LAS CONSTANTE a Y b PARA COMPONENTE DE LA MEZCLA\n",
        "TR_PR=T/TC\n",
        "a_PR=((0.45724*pow(R,2)*pow(TC,2))/PC)\n",
        "b_PR=((0.07780*R*TC)/PC)\n",
        "alpha_PR=(1+(0.37464+(1.54226*(w_fa))-(0.26992*(w_fa**2)))*(1-(TR_PR**0.5)))**2\n",
        "\n",
        "print(f\"OBTENCIÓN DE LAS CONSTANTES a y b PARA LA ECUACIÓN DE ESTADO DE Soave \\nPARA EL COMPUESTO {COMP.upper()}\")\n",
        "print(\"------------------------------------------------------------------------------\\n\")\n",
        "ENC_RES = [\"VARIABLE\", \"RESULTADO\"]\n",
        "VAR_TAB1_RES = ['CONSTANTE a','CONSTANTE b','CONSTANTE alpha', 'TEMPERATURA REDUCIDA']\n",
        "R_VAR_EEPR = [a_PR, b_PR, alpha_PR, TR_PR]\n",
        "FIL_R_EEPR = []\n",
        "for i in range(4):\n",
        "    FIL_R_EEPR.append([VAR_TAB1_RES[i],R_VAR_EEPR[i]])\n",
        "print(tb.tabulate(FIL_R_EEPR, headers=ENC_RES, tablefmt=\"fancy_grid\", floatfmt=\"5.6f\", stralign=\"center\", numalign=\"center\"))\n",
        "print('\\n\\n')\n",
        "\n",
        "# - CALCULAR LOS COEFICIENTES DE LA ECUACIÓN DE ESTADO DE PENG-ROBINSON EN SU FORMA POLINOMICA\n",
        "print(\"CALCULO DE LOS COEFICIENTES DE LA ECUACIÓN POLINOMICA Y DE LA RAIZ DEL MISMO\")\n",
        "print(\"------------------------------------------------------------------------------\\n\")\n",
        "coeff1_PR=1                                                          #TERMINO CÚBICO\n",
        "coeff2_PR=((b_PR)-((R*T)/P))                                         #TERMINO CUADRÁTICO\n",
        "coeff3_PR=(((a_PR*alpha_PR)/P)-((2*b_PR*R*T)/P)-(3*(b_PR**2)))       #TERMINO LINEAL\n",
        "coeff4_PR=((b_PR**3)+((R*T*(b_PR**2))/P)-((a_PR*alpha_PR*b_PR)/P))   #TERMINO INDEPENDIENTE\n",
        "\n",
        "POL_PR=[coeff1_PR,coeff2_PR,coeff3_PR,coeff4_PR]\n",
        "print(\"--> LA ECUACIÓN POLINÓMICA CALCULADA EN TÉRMINOS DE VOLUMEN MOLAR:\\n\")\n",
        "print(\"%5.5f V^3 + \\t%5.10f V^2 + \\t%5.10f V + \\t%5.10f = 0\\n\\n\"%(POL_PR[0],POL_PR[1],POL_PR[2],POL_PR[3]))\n",
        "\n",
        "# - OBTENER LA RAÍZ REAL DE LA ECUACIÓN POLINOMCA Y POR TANTO EL VOLUMEN MOLAR\n",
        "EPOL_PR=np.roots(POL_PR)\n",
        "print(\"--> LAS RAICES OBTENIDAS DE LA ECUACIÓN DE POLINÓMICA SON:\\n\")\n",
        "print(EPOL_PR)\n",
        "print(\"\\n\\n--> DE LO OBTENIDO DE LA ECUACIÓN DE ESTADO:\\n\")\n",
        "# - SELECCIÓN DE LA RAIZ REAL DE LA ECUACIÓN POLINOMICA\n",
        "RR_PR=sum(np.isreal(EPOL_PR))\n",
        "if RR_PR == 1:\n",
        "    VM_PR=EPOL_PR[np.isreal(EPOL_PR)].real[0]\n",
        "    print(\"VOLUMEN MOLAR DEL FLUIDO (L/mol) = %5.6f\"%(VM_PR))\n",
        "    print(\"\\n\\n\")\n",
        "elif RR_PR == 3:\n",
        "    VM_S=max(EPOL_PR)\n",
        "    print(\"VOLUMEN MOLAR DEL FLUIDO (L/mol) = %5.6f\"%(VM_S))\n",
        "    print(\"\\n\\n\")\n",
        "else:\n",
        "    print(\"*** ERROR NO HAY SOLUCION PARA ESTA EOS EN ESTAS CONDICIONES, NO HAY RAIZ REAL UNICA ***\\n\\n\")\n",
        "\n",
        "#* OBTENIENDO LOS MOLES Y MASA DEL GAS\n",
        "DENS_PR=MMOLAR_GAS/VM_PR\n",
        "Z_PR=(P*VM_PR)/(R*T)\n",
        "\n",
        "# - RESULTADOS DE SALIDA\n",
        "print(\"RESULTADOS PARA LA ECUACIÓN DE ESTADO DE PENG-ROBINSON\")\n",
        "print(\"-------------------------------------------------------------------------\\n\")\n",
        "ENC_RES = [\"VARIABLE\", \"RESULTADO\"]\n",
        "VAR_TAB2_RES = ['VOLUMEN MOLAR DEL FLUIDO (L/mol)','DENSIDAD DEL FLUIDO (kg/m^3)','FACTOR DE COMPRESIBILIDAD (Z)']\n",
        "R_VAR_EEPR = [VM_PR, DENS_PR, Z_PR]\n",
        "FIL_R_EEPR = []\n",
        "for i in range(3):\n",
        "    FIL_R_EEPR.append([VAR_TAB2_RES[i],R_VAR_EEPR[i]])\n",
        "print(tb.tabulate(FIL_R_EEPR, headers=ENC_RES, tablefmt=\"fancy_grid\", floatfmt=\".6f\", stralign=\"center\", numalign=\"center\"))\n",
        "print(\"\\n--------------------------------------------------------------------------\\n\\n\\n\")\n"
      ],
      "metadata": {
        "id": "i1Ol_Byvf7zX"
      },
      "execution_count": null,
      "outputs": []
    },
    {
      "cell_type": "markdown",
      "source": [
        "---"
      ],
      "metadata": {
        "id": "T6jLrCbJ3j_1"
      }
    },
    {
      "cell_type": "markdown",
      "source": [
        "#TABLA COMPARATIVA DE RESULTADOS ENTRE LOS DIFERENTES ECUACIONES DE ESTADO"
      ],
      "metadata": {
        "id": "y148Ycuo3k0A"
      }
    },
    {
      "cell_type": "code",
      "source": [
        "#RESUMEN DE RESULTADOS DE LO OBTENIDO EN ESTE PROGRAMA\n",
        "print(\"RESUMEN DE RESULTADOS DE VOLUMEN MOLAR, DENSIDAD Y FACTOR DE COMPRESIBILIDAD \\nDEL GAS PURO POR CADA ECUACION DE ESTADO\")\n",
        "print(\"----------------------------------------------------------------------------------\\n\")\n",
        "\n",
        "ENC_RVD = [\"ECUACIÓN DE ESTADO\", \"VOLUMEN MOLAR\\n(L/mol)\", \"DENSIDAD\\n(kg/m^3)\",\"FACTOR DE \\n COMPRESIBILIDAD (Z)\"]\n",
        "EOS=['Gas ideal','Van der Waals', 'Redlich-Kwong', 'Soave', 'Peng-Robinson']\n",
        "VM_SIST=[VM_EGI, VM_VW, VM_RK, VM_S, VM_PR]\n",
        "DENS_SIST=[DENS_EGI, DENS_VW, DENS_RK, DENS_S, DENS_PR]\n",
        "Z_SIST=[Z_EGI, Z_VW, Z_RK, Z_S, Z_PR]\n",
        "FIL_RVD = []\n",
        "for i in range(5):\n",
        "    FIL_RVD.append([EOS[i], VM_SIST[i], DENS_SIST[i], Z_SIST[i]])\n",
        "print(tb.tabulate(FIL_RVD, headers=ENC_RVD, tablefmt=\"fancy_grid\", floatfmt=\".6f\", stralign=\"center\", numalign=\"center\"))"
      ],
      "metadata": {
        "id": "NlW0UOqNf-_O"
      },
      "execution_count": null,
      "outputs": []
    }
  ]
}